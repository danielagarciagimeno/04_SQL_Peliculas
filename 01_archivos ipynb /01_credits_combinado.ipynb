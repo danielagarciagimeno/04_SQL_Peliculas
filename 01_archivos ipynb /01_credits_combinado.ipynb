{
 "cells": [
  {
   "cell_type": "code",
   "execution_count": 1,
   "metadata": {},
   "outputs": [],
   "source": [
    "import pandas as pd\n",
    "\n",
    "credits_amazon = pd.read_csv('/Users/monzon8/Documents/Ironhack/PROYECTOS/04_SQL/credits_Amazon_Prime.csv')\n",
    "credits_appletv = pd.read_csv('/Users/monzon8/Documents/Ironhack/PROYECTOS/04_SQL/credits_AppleTV.csv')\n",
    "credits_disney = pd.read_csv('/Users/monzon8/Documents/Ironhack/PROYECTOS/04_SQL/credits_Disney.csv')\n",
    "credits_hbo = pd.read_csv('/Users/monzon8/Documents/Ironhack/PROYECTOS/04_SQL/credits_HBO.csv')\n",
    "credits_netflix = pd.read_csv('/Users/monzon8/Documents/Ironhack/PROYECTOS/04_SQL/credits_Netflix .csv')\n",
    "credits_paramount = pd.read_csv('/Users/monzon8/Documents/Ironhack/PROYECTOS/04_SQL/credits_Paramount.csv')\n"
   ]
  },
  {
   "cell_type": "code",
   "execution_count": 2,
   "metadata": {},
   "outputs": [],
   "source": [
    "# Combino todos los créditos con una sola tabla\n",
    "credits_combinado = pd.concat([\n",
    "    credits_amazon,\n",
    "    credits_appletv,\n",
    "    credits_disney,\n",
    "    credits_hbo,\n",
    "    credits_netflix,\n",
    "    credits_paramount\n",
    "], ignore_index=True)"
   ]
  },
  {
   "cell_type": "code",
   "execution_count": 3,
   "metadata": {},
   "outputs": [
    {
     "data": {
      "text/html": [
       "<div>\n",
       "<style scoped>\n",
       "    .dataframe tbody tr th:only-of-type {\n",
       "        vertical-align: middle;\n",
       "    }\n",
       "\n",
       "    .dataframe tbody tr th {\n",
       "        vertical-align: top;\n",
       "    }\n",
       "\n",
       "    .dataframe thead th {\n",
       "        text-align: right;\n",
       "    }\n",
       "</style>\n",
       "<table border=\"1\" class=\"dataframe\">\n",
       "  <thead>\n",
       "    <tr style=\"text-align: right;\">\n",
       "      <th></th>\n",
       "      <th>person_id</th>\n",
       "      <th>id</th>\n",
       "      <th>name</th>\n",
       "      <th>character</th>\n",
       "      <th>role</th>\n",
       "    </tr>\n",
       "  </thead>\n",
       "  <tbody>\n",
       "    <tr>\n",
       "      <th>0</th>\n",
       "      <td>25020</td>\n",
       "      <td>tm87233</td>\n",
       "      <td>James Stewart</td>\n",
       "      <td>George Bailey</td>\n",
       "      <td>ACTOR</td>\n",
       "    </tr>\n",
       "    <tr>\n",
       "      <th>1</th>\n",
       "      <td>26190</td>\n",
       "      <td>tm87233</td>\n",
       "      <td>Donna Reed</td>\n",
       "      <td>Mary Hatch</td>\n",
       "      <td>ACTOR</td>\n",
       "    </tr>\n",
       "    <tr>\n",
       "      <th>2</th>\n",
       "      <td>25653</td>\n",
       "      <td>tm87233</td>\n",
       "      <td>Lionel Barrymore</td>\n",
       "      <td>Mr. Potter</td>\n",
       "      <td>ACTOR</td>\n",
       "    </tr>\n",
       "    <tr>\n",
       "      <th>3</th>\n",
       "      <td>13301</td>\n",
       "      <td>tm87233</td>\n",
       "      <td>Thomas Mitchell</td>\n",
       "      <td>Uncle Billy</td>\n",
       "      <td>ACTOR</td>\n",
       "    </tr>\n",
       "    <tr>\n",
       "      <th>4</th>\n",
       "      <td>34171</td>\n",
       "      <td>tm87233</td>\n",
       "      <td>Henry Travers</td>\n",
       "      <td>Clarence</td>\n",
       "      <td>ACTOR</td>\n",
       "    </tr>\n",
       "    <tr>\n",
       "      <th>...</th>\n",
       "      <td>...</td>\n",
       "      <td>...</td>\n",
       "      <td>...</td>\n",
       "      <td>...</td>\n",
       "      <td>...</td>\n",
       "    </tr>\n",
       "    <tr>\n",
       "      <th>370541</th>\n",
       "      <td>709229</td>\n",
       "      <td>tm1285862</td>\n",
       "      <td>Jonah Feingold</td>\n",
       "      <td>NaN</td>\n",
       "      <td>DIRECTOR</td>\n",
       "    </tr>\n",
       "    <tr>\n",
       "      <th>370542</th>\n",
       "      <td>24846</td>\n",
       "      <td>ts378319</td>\n",
       "      <td>RuPaul</td>\n",
       "      <td>Self - Host</td>\n",
       "      <td>ACTOR</td>\n",
       "    </tr>\n",
       "    <tr>\n",
       "      <th>370543</th>\n",
       "      <td>1331687</td>\n",
       "      <td>tm1075680</td>\n",
       "      <td>Brian Cade</td>\n",
       "      <td>Narrator (voice)</td>\n",
       "      <td>ACTOR</td>\n",
       "    </tr>\n",
       "    <tr>\n",
       "      <th>370544</th>\n",
       "      <td>412947</td>\n",
       "      <td>tm1075680</td>\n",
       "      <td>Kevin Bachar</td>\n",
       "      <td>NaN</td>\n",
       "      <td>DIRECTOR</td>\n",
       "    </tr>\n",
       "    <tr>\n",
       "      <th>370545</th>\n",
       "      <td>2413513</td>\n",
       "      <td>tm1312309</td>\n",
       "      <td>Nathaniel Lezra</td>\n",
       "      <td>NaN</td>\n",
       "      <td>DIRECTOR</td>\n",
       "    </tr>\n",
       "  </tbody>\n",
       "</table>\n",
       "<p>370546 rows × 5 columns</p>\n",
       "</div>"
      ],
      "text/plain": [
       "        person_id         id              name         character      role\n",
       "0           25020    tm87233     James Stewart     George Bailey     ACTOR\n",
       "1           26190    tm87233        Donna Reed        Mary Hatch     ACTOR\n",
       "2           25653    tm87233  Lionel Barrymore        Mr. Potter     ACTOR\n",
       "3           13301    tm87233   Thomas Mitchell       Uncle Billy     ACTOR\n",
       "4           34171    tm87233     Henry Travers          Clarence     ACTOR\n",
       "...           ...        ...               ...               ...       ...\n",
       "370541     709229  tm1285862    Jonah Feingold               NaN  DIRECTOR\n",
       "370542      24846   ts378319            RuPaul       Self - Host     ACTOR\n",
       "370543    1331687  tm1075680        Brian Cade  Narrator (voice)     ACTOR\n",
       "370544     412947  tm1075680      Kevin Bachar               NaN  DIRECTOR\n",
       "370545    2413513  tm1312309   Nathaniel Lezra               NaN  DIRECTOR\n",
       "\n",
       "[370546 rows x 5 columns]"
      ]
     },
     "execution_count": 3,
     "metadata": {},
     "output_type": "execute_result"
    }
   ],
   "source": [
    "credits_combinado"
   ]
  },
  {
   "cell_type": "code",
   "execution_count": 4,
   "metadata": {},
   "outputs": [],
   "source": [
    "credits_combinado = credits_combinado.rename(columns={'id': 'id_titles'})\n"
   ]
  },
  {
   "cell_type": "code",
   "execution_count": null,
   "metadata": {},
   "outputs": [
    {
     "name": "stdout",
     "output_type": "stream",
     "text": [
      "<class 'pandas.core.frame.DataFrame'>\n",
      "RangeIndex: 370546 entries, 0 to 370545\n",
      "Data columns (total 5 columns):\n",
      " #   Column     Non-Null Count   Dtype \n",
      "---  ------     --------------   ----- \n",
      " 0   person_id  370546 non-null  int64 \n",
      " 1   id_titles  370546 non-null  object\n",
      " 2   name       370546 non-null  object\n",
      " 3   character  332144 non-null  object\n",
      " 4   role       370546 non-null  object\n",
      "dtypes: int64(1), object(4)\n",
      "memory usage: 14.1+ MB\n",
      "None\n"
     ]
    }
   ],
   "source": [
    "print(credits_combinado.info())"
   ]
  },
  {
   "cell_type": "code",
   "execution_count": 6,
   "metadata": {},
   "outputs": [],
   "source": [
    "credits_combinado.to_csv('credits_combinado.csv', index=False)"
   ]
  }
 ],
 "metadata": {
  "kernelspec": {
   "display_name": "Python 3",
   "language": "python",
   "name": "python3"
  },
  "language_info": {
   "codemirror_mode": {
    "name": "ipython",
    "version": 3
   },
   "file_extension": ".py",
   "mimetype": "text/x-python",
   "name": "python",
   "nbconvert_exporter": "python",
   "pygments_lexer": "ipython3",
   "version": "3.8.2"
  }
 },
 "nbformat": 4,
 "nbformat_minor": 2
}
