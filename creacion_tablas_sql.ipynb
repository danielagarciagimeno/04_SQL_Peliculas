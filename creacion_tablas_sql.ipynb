{
 "cells": [
  {
   "cell_type": "markdown",
   "metadata": {},
   "source": [
    "GENERO"
   ]
  },
  {
   "cell_type": "code",
   "execution_count": 38,
   "metadata": {},
   "outputs": [],
   "source": [
    "import pandas as pd\n",
    "\n",
    "# 1. Cargar el archivo CSV en un DataFrame\n",
    "df = pd.read_csv('./titles_combinado.csv')\n",
    "\n",
    "# 2. Convertir la columna 'genero' a listas si está en formato string\n",
    "# (necesario si los valores son strings con coma, por ejemplo 'drama, history, crime')\n",
    "df['genres'] = df['genres'].str.split(', ')\n",
    "\n",
    "# 3. Explode para obtener cada género en una fila, aunque con duplicados\n",
    "df_exploded = df.explode('genres')\n",
    "\n",
    "\n",
    "# 4. Limpiar los valores de 'genero' quitando posibles corchetes y comillas adicionales\n",
    "df_exploded['genres'] = df_exploded['genres'].str.strip(\"[]'\\\" \")\n",
    "\n",
    "# 5. Obtener los géneros únicos\n",
    "generos_unicos = df_exploded['genres'].dropna().unique()\n",
    "\n",
    "# 6. Crear un DataFrame con géneros únicos y asignar un ID a cada uno\n",
    "df_generos_unicos = pd.DataFrame({\n",
    "    'id': range(1, len(generos_unicos) + 1),\n",
    "    'genres': generos_unicos\n",
    "})\n"
   ]
  },
  {
   "cell_type": "code",
   "execution_count": 53,
   "metadata": {},
   "outputs": [
    {
     "name": "stderr",
     "output_type": "stream",
     "text": [
      "C:\\Users\\Ema\\AppData\\Local\\Temp\\ipykernel_20936\\753013602.py:12: SettingWithCopyWarning: \n",
      "A value is trying to be set on a copy of a slice from a DataFrame.\n",
      "Try using .loc[row_indexer,col_indexer] = value instead\n",
      "\n",
      "See the caveats in the documentation: https://pandas.pydata.org/pandas-docs/stable/user_guide/indexing.html#returning-a-view-versus-a-copy\n",
      "  df_genre_titles['genres'] = df_genre_titles['genres'].str.strip(\"[]'\\\" \")\n"
     ]
    }
   ],
   "source": [
    "import pandas as pd\n",
    "\n",
    "# 1. Cargar el archivo CSV en un DataFrame\n",
    "df = pd.read_csv('./titles_combinado.csv')\n",
    "\n",
    "df['genres'] = df['genres'].str.split(', ')\n",
    "\n",
    "# 3. Explode para obtener cada género en una fila, aunque con duplicados\n",
    "df_exploded = df.explode('genres')\n",
    "\n",
    "df_genre_titles = df_exploded[['id', 'genres']]\n",
    "df_genre_titles['genres'] = df_genre_titles['genres'].str.strip(\"[]'\\\" \")\n"
   ]
  },
  {
   "cell_type": "code",
   "execution_count": null,
   "metadata": {},
   "outputs": [],
   "source": [
    "df_genre_titles = df_genre_titles.merge(df_generos_unicos, on='genres')\n"
   ]
  },
  {
   "cell_type": "code",
   "execution_count": 60,
   "metadata": {},
   "outputs": [],
   "source": [
    "\n",
    "df_genre_titles = df_genre_titles.rename(columns={'id_y': 'id_genre'})\n",
    "df_genre_titles = df_genre_titles.rename(columns={'id_x': 'id_title'})\n"
   ]
  },
  {
   "cell_type": "code",
   "execution_count": 61,
   "metadata": {},
   "outputs": [],
   "source": [
    "df_genre_titles = df_genre_titles[['id_title', 'id_genre']]"
   ]
  },
  {
   "cell_type": "code",
   "execution_count": 62,
   "metadata": {},
   "outputs": [
    {
     "data": {
      "text/html": [
       "<div>\n",
       "<style scoped>\n",
       "    .dataframe tbody tr th:only-of-type {\n",
       "        vertical-align: middle;\n",
       "    }\n",
       "\n",
       "    .dataframe tbody tr th {\n",
       "        vertical-align: top;\n",
       "    }\n",
       "\n",
       "    .dataframe thead th {\n",
       "        text-align: right;\n",
       "    }\n",
       "</style>\n",
       "<table border=\"1\" class=\"dataframe\">\n",
       "  <thead>\n",
       "    <tr style=\"text-align: right;\">\n",
       "      <th></th>\n",
       "      <th>id_title</th>\n",
       "      <th>id_genre</th>\n",
       "    </tr>\n",
       "  </thead>\n",
       "  <tbody>\n",
       "    <tr>\n",
       "      <th>0</th>\n",
       "      <td>tm1</td>\n",
       "      <td>1</td>\n",
       "    </tr>\n",
       "    <tr>\n",
       "      <th>1</th>\n",
       "      <td>tm1</td>\n",
       "      <td>2</td>\n",
       "    </tr>\n",
       "    <tr>\n",
       "      <th>2</th>\n",
       "      <td>tm1</td>\n",
       "      <td>3</td>\n",
       "    </tr>\n",
       "    <tr>\n",
       "      <th>3</th>\n",
       "      <td>tm10</td>\n",
       "      <td>1</td>\n",
       "    </tr>\n",
       "    <tr>\n",
       "      <th>4</th>\n",
       "      <td>tm10</td>\n",
       "      <td>2</td>\n",
       "    </tr>\n",
       "    <tr>\n",
       "      <th>...</th>\n",
       "      <td>...</td>\n",
       "      <td>...</td>\n",
       "    </tr>\n",
       "    <tr>\n",
       "      <th>56541</th>\n",
       "      <td>ts99814</td>\n",
       "      <td>8</td>\n",
       "    </tr>\n",
       "    <tr>\n",
       "      <th>56542</th>\n",
       "      <td>ts99814</td>\n",
       "      <td>4</td>\n",
       "    </tr>\n",
       "    <tr>\n",
       "      <th>56543</th>\n",
       "      <td>ts9986</td>\n",
       "      <td>1</td>\n",
       "    </tr>\n",
       "    <tr>\n",
       "      <th>56544</th>\n",
       "      <td>ts9986</td>\n",
       "      <td>4</td>\n",
       "    </tr>\n",
       "    <tr>\n",
       "      <th>56545</th>\n",
       "      <td>ts99878</td>\n",
       "      <td>15</td>\n",
       "    </tr>\n",
       "  </tbody>\n",
       "</table>\n",
       "<p>56546 rows × 2 columns</p>\n",
       "</div>"
      ],
      "text/plain": [
       "      id_title  id_genre\n",
       "0          tm1         1\n",
       "1          tm1         2\n",
       "2          tm1         3\n",
       "3         tm10         1\n",
       "4         tm10         2\n",
       "...        ...       ...\n",
       "56541  ts99814         8\n",
       "56542  ts99814         4\n",
       "56543   ts9986         1\n",
       "56544   ts9986         4\n",
       "56545  ts99878        15\n",
       "\n",
       "[56546 rows x 2 columns]"
      ]
     },
     "execution_count": 62,
     "metadata": {},
     "output_type": "execute_result"
    }
   ],
   "source": [
    "df_genre_titles"
   ]
  },
  {
   "cell_type": "code",
   "execution_count": 63,
   "metadata": {},
   "outputs": [],
   "source": [
    "# Exportar df_generos_unicos a un archivo CSV\n",
    "df_genre_titles.to_csv('generos_titles.csv', index=False)\n"
   ]
  },
  {
   "cell_type": "code",
   "execution_count": 67,
   "metadata": {},
   "outputs": [],
   "source": [
    "# Exportar df_generos_unicos a un archivo CSV\n",
    "df_generos_unicos.to_csv('generos_unicos.csv', index=False)\n"
   ]
  },
  {
   "cell_type": "markdown",
   "metadata": {},
   "source": [
    "COUNTRY"
   ]
  },
  {
   "cell_type": "code",
   "execution_count": 69,
   "metadata": {},
   "outputs": [],
   "source": [
    "import pandas as pd\n",
    "\n",
    "# 1. Cargar el archivo CSV en un DataFrame\n",
    "df = pd.read_csv('./titles_combinado.csv')\n",
    "\n",
    "# 2. Convertir la columna 'production_countries' a listas si está en formato string\n",
    "# (necesario si los valores son strings con coma, por ejemplo 'drama, history, crime')\n",
    "df['production_countries'] = df['production_countries'].str.split(', ')\n",
    "\n",
    "# 3. Explode para obtener cada production_countries en una fila, aunque con duplicados\n",
    "df_exploded_dos = df.explode('production_countries')\n",
    "\n",
    "\n",
    "# 4. Limpiar los valores de 'production_countries' quitando posibles corchetes y comillas adicionales\n",
    "df_exploded_dos['production_countries'] = df_exploded_dos['production_countries'].str.strip(\"[]'\\\" \")\n",
    "\n",
    "# 5. Obtener los production_countries únicos\n",
    "production_countries_unicos = df_exploded_dos['production_countries'].dropna().unique()\n",
    "\n",
    "# 6. Crear un DataFrame con production_countries únicos y asignar un ID a cada uno\n",
    "df_production_countries_unicos = pd.DataFrame({\n",
    "    'id': range(1, len(production_countries_unicos) + 1),\n",
    "    'production_countries': production_countries_unicos\n",
    "})"
   ]
  },
  {
   "cell_type": "code",
   "execution_count": 70,
   "metadata": {},
   "outputs": [
    {
     "data": {
      "text/html": [
       "<div>\n",
       "<style scoped>\n",
       "    .dataframe tbody tr th:only-of-type {\n",
       "        vertical-align: middle;\n",
       "    }\n",
       "\n",
       "    .dataframe tbody tr th {\n",
       "        vertical-align: top;\n",
       "    }\n",
       "\n",
       "    .dataframe thead th {\n",
       "        text-align: right;\n",
       "    }\n",
       "</style>\n",
       "<table border=\"1\" class=\"dataframe\">\n",
       "  <thead>\n",
       "    <tr style=\"text-align: right;\">\n",
       "      <th></th>\n",
       "      <th>id</th>\n",
       "      <th>production_countries</th>\n",
       "    </tr>\n",
       "  </thead>\n",
       "  <tbody>\n",
       "    <tr>\n",
       "      <th>0</th>\n",
       "      <td>1</td>\n",
       "      <td>US</td>\n",
       "    </tr>\n",
       "    <tr>\n",
       "      <th>1</th>\n",
       "      <td>2</td>\n",
       "      <td>CN</td>\n",
       "    </tr>\n",
       "    <tr>\n",
       "      <th>2</th>\n",
       "      <td>3</td>\n",
       "      <td>CZ</td>\n",
       "    </tr>\n",
       "    <tr>\n",
       "      <th>3</th>\n",
       "      <td>4</td>\n",
       "      <td>DE</td>\n",
       "    </tr>\n",
       "    <tr>\n",
       "      <th>4</th>\n",
       "      <td>5</td>\n",
       "      <td>CA</td>\n",
       "    </tr>\n",
       "    <tr>\n",
       "      <th>5</th>\n",
       "      <td>6</td>\n",
       "      <td>GB</td>\n",
       "    </tr>\n",
       "    <tr>\n",
       "      <th>6</th>\n",
       "      <td>7</td>\n",
       "      <td>ID</td>\n",
       "    </tr>\n",
       "    <tr>\n",
       "      <th>7</th>\n",
       "      <td>8</td>\n",
       "      <td>PL</td>\n",
       "    </tr>\n",
       "    <tr>\n",
       "      <th>8</th>\n",
       "      <td>9</td>\n",
       "      <td></td>\n",
       "    </tr>\n",
       "    <tr>\n",
       "      <th>9</th>\n",
       "      <td>10</td>\n",
       "      <td>IN</td>\n",
       "    </tr>\n",
       "  </tbody>\n",
       "</table>\n",
       "</div>"
      ],
      "text/plain": [
       "   id production_countries\n",
       "0   1                   US\n",
       "1   2                   CN\n",
       "2   3                   CZ\n",
       "3   4                   DE\n",
       "4   5                   CA\n",
       "5   6                   GB\n",
       "6   7                   ID\n",
       "7   8                   PL\n",
       "8   9                     \n",
       "9  10                   IN"
      ]
     },
     "execution_count": 70,
     "metadata": {},
     "output_type": "execute_result"
    }
   ],
   "source": [
    "# Ver el resultado\n",
    "df_production_countries_unicos.head(10)"
   ]
  },
  {
   "cell_type": "code",
   "execution_count": 71,
   "metadata": {},
   "outputs": [],
   "source": [
    "# Exportar df_production_countries_unicos a un archivo CSV\n",
    "df_production_countries_unicos.to_csv('paises_unicos.csv', index=False)"
   ]
  },
  {
   "cell_type": "code",
   "execution_count": 73,
   "metadata": {},
   "outputs": [
    {
     "name": "stderr",
     "output_type": "stream",
     "text": [
      "C:\\Users\\Ema\\AppData\\Local\\Temp\\ipykernel_20936\\1815078107.py:12: SettingWithCopyWarning: \n",
      "A value is trying to be set on a copy of a slice from a DataFrame.\n",
      "Try using .loc[row_indexer,col_indexer] = value instead\n",
      "\n",
      "See the caveats in the documentation: https://pandas.pydata.org/pandas-docs/stable/user_guide/indexing.html#returning-a-view-versus-a-copy\n",
      "  df_country_titles['production_countries'] = df_country_titles['production_countries'].str.strip(\"[]'\\\" \")\n"
     ]
    }
   ],
   "source": [
    "import pandas as pd\n",
    "\n",
    "# 1. Cargar el archivo CSV en un DataFrame\n",
    "df = pd.read_csv('./titles_combinado.csv')\n",
    "\n",
    "df['production_countries'] = df['production_countries'].str.split(', ')\n",
    "\n",
    "# 3. Explode para obtener cada género en una fila, aunque con duplicados\n",
    "df_exploded = df.explode('production_countries')\n",
    "\n",
    "df_country_titles = df_exploded_dos[['id', 'production_countries']]\n",
    "df_country_titles['production_countries'] = df_country_titles['production_countries'].str.strip(\"[]'\\\" \")\n",
    "df_country_titles = df_country_titles.merge(df_production_countries_unicos, on='production_countries')\n"
   ]
  },
  {
   "cell_type": "code",
   "execution_count": 74,
   "metadata": {},
   "outputs": [],
   "source": [
    "df_country_titles = df_country_titles.rename(columns={'id_y': 'id_production_countries'})\n",
    "df_country_titles = df_country_titles.rename(columns={'id_x': 'id_title'})"
   ]
  },
  {
   "cell_type": "code",
   "execution_count": 75,
   "metadata": {},
   "outputs": [],
   "source": [
    "df_country_titles = df_country_titles[['id_title', 'id_production_countries']]"
   ]
  },
  {
   "cell_type": "code",
   "execution_count": 76,
   "metadata": {},
   "outputs": [
    {
     "data": {
      "text/html": [
       "<div>\n",
       "<style scoped>\n",
       "    .dataframe tbody tr th:only-of-type {\n",
       "        vertical-align: middle;\n",
       "    }\n",
       "\n",
       "    .dataframe tbody tr th {\n",
       "        vertical-align: top;\n",
       "    }\n",
       "\n",
       "    .dataframe thead th {\n",
       "        text-align: right;\n",
       "    }\n",
       "</style>\n",
       "<table border=\"1\" class=\"dataframe\">\n",
       "  <thead>\n",
       "    <tr style=\"text-align: right;\">\n",
       "      <th></th>\n",
       "      <th>id_title</th>\n",
       "      <th>id_production_countries</th>\n",
       "    </tr>\n",
       "  </thead>\n",
       "  <tbody>\n",
       "    <tr>\n",
       "      <th>0</th>\n",
       "      <td>tm1</td>\n",
       "      <td>1</td>\n",
       "    </tr>\n",
       "    <tr>\n",
       "      <th>1</th>\n",
       "      <td>tm10</td>\n",
       "      <td>1</td>\n",
       "    </tr>\n",
       "    <tr>\n",
       "      <th>2</th>\n",
       "      <td>tm10000</td>\n",
       "      <td>1</td>\n",
       "    </tr>\n",
       "    <tr>\n",
       "      <th>3</th>\n",
       "      <td>tm100001</td>\n",
       "      <td>1</td>\n",
       "    </tr>\n",
       "    <tr>\n",
       "      <th>4</th>\n",
       "      <td>tm1000022</td>\n",
       "      <td>2</td>\n",
       "    </tr>\n",
       "    <tr>\n",
       "      <th>...</th>\n",
       "      <td>...</td>\n",
       "      <td>...</td>\n",
       "    </tr>\n",
       "    <tr>\n",
       "      <th>26742</th>\n",
       "      <td>ts99534</td>\n",
       "      <td>1</td>\n",
       "    </tr>\n",
       "    <tr>\n",
       "      <th>26743</th>\n",
       "      <td>ts99535</td>\n",
       "      <td>1</td>\n",
       "    </tr>\n",
       "    <tr>\n",
       "      <th>26744</th>\n",
       "      <td>ts99814</td>\n",
       "      <td>69</td>\n",
       "    </tr>\n",
       "    <tr>\n",
       "      <th>26745</th>\n",
       "      <td>ts9986</td>\n",
       "      <td>1</td>\n",
       "    </tr>\n",
       "    <tr>\n",
       "      <th>26746</th>\n",
       "      <td>ts99878</td>\n",
       "      <td>6</td>\n",
       "    </tr>\n",
       "  </tbody>\n",
       "</table>\n",
       "<p>26747 rows × 2 columns</p>\n",
       "</div>"
      ],
      "text/plain": [
       "        id_title  id_production_countries\n",
       "0            tm1                        1\n",
       "1           tm10                        1\n",
       "2        tm10000                        1\n",
       "3       tm100001                        1\n",
       "4      tm1000022                        2\n",
       "...          ...                      ...\n",
       "26742    ts99534                        1\n",
       "26743    ts99535                        1\n",
       "26744    ts99814                       69\n",
       "26745     ts9986                        1\n",
       "26746    ts99878                        6\n",
       "\n",
       "[26747 rows x 2 columns]"
      ]
     },
     "execution_count": 76,
     "metadata": {},
     "output_type": "execute_result"
    }
   ],
   "source": [
    "df_country_titles"
   ]
  },
  {
   "cell_type": "code",
   "execution_count": 77,
   "metadata": {},
   "outputs": [],
   "source": [
    "# Exportar df_production_countries_unicos a un archivo CSV\n",
    "df_country_titles.to_csv('country_title.csv', index=False)"
   ]
  },
  {
   "cell_type": "markdown",
   "metadata": {},
   "source": [
    "PLATFORM"
   ]
  },
  {
   "cell_type": "code",
   "execution_count": 82,
   "metadata": {},
   "outputs": [],
   "source": [
    "import pandas as pd\n",
    "\n",
    "# 1. Cargar el archivo CSV en un DataFrame\n",
    "df = pd.read_csv('./titles_combinado.csv')\n",
    "\n",
    "\n",
    "# 2. Convertir la columna 'platform' a listas si está en formato string\n",
    "# (necesario si los valores son strings con coma, por ejemplo 'drama, history, crime')\n",
    "df['platform'] = df['platform'].str.split(', ')\n",
    "\n",
    "# 3. Explode para obtener cada platform en una fila, aunque con duplicados\n",
    "df_exploded_tres = df.explode('platform')\n",
    "\n",
    "\n",
    "# 4. Limpiar los valores de 'platform' quitando posibles corchetes y comillas adicionales\n",
    "df_exploded_tres['platform'] = df_exploded_tres['platform'].str.strip(\"[]'\\\" \")\n",
    "\n",
    "# 5. Obtener los platform únicos\n",
    "platform_unicos = df_exploded_tres['platform'].dropna().unique()\n",
    "\n",
    "# 6. Crear un DataFrame con platform únicos y asignar un ID a cada uno\n",
    "df_platform_unicos = pd.DataFrame({\n",
    "    'id': range(1, len(platform_unicos) + 1),\n",
    "    'platform': platform_unicos\n",
    "})"
   ]
  },
  {
   "cell_type": "code",
   "execution_count": 83,
   "metadata": {},
   "outputs": [
    {
     "data": {
      "text/html": [
       "<div>\n",
       "<style scoped>\n",
       "    .dataframe tbody tr th:only-of-type {\n",
       "        vertical-align: middle;\n",
       "    }\n",
       "\n",
       "    .dataframe tbody tr th {\n",
       "        vertical-align: top;\n",
       "    }\n",
       "\n",
       "    .dataframe thead th {\n",
       "        text-align: right;\n",
       "    }\n",
       "</style>\n",
       "<table border=\"1\" class=\"dataframe\">\n",
       "  <thead>\n",
       "    <tr style=\"text-align: right;\">\n",
       "      <th></th>\n",
       "      <th>id</th>\n",
       "      <th>platform</th>\n",
       "    </tr>\n",
       "  </thead>\n",
       "  <tbody>\n",
       "    <tr>\n",
       "      <th>0</th>\n",
       "      <td>1</td>\n",
       "      <td>Disney</td>\n",
       "    </tr>\n",
       "    <tr>\n",
       "      <th>1</th>\n",
       "      <td>2</td>\n",
       "      <td>HBO</td>\n",
       "    </tr>\n",
       "    <tr>\n",
       "      <th>2</th>\n",
       "      <td>3</td>\n",
       "      <td>Amazon Prime</td>\n",
       "    </tr>\n",
       "    <tr>\n",
       "      <th>3</th>\n",
       "      <td>4</td>\n",
       "      <td>Paramount</td>\n",
       "    </tr>\n",
       "    <tr>\n",
       "      <th>4</th>\n",
       "      <td>5</td>\n",
       "      <td>Netflix</td>\n",
       "    </tr>\n",
       "    <tr>\n",
       "      <th>5</th>\n",
       "      <td>6</td>\n",
       "      <td>AppleTV</td>\n",
       "    </tr>\n",
       "  </tbody>\n",
       "</table>\n",
       "</div>"
      ],
      "text/plain": [
       "   id      platform\n",
       "0   1        Disney\n",
       "1   2           HBO\n",
       "2   3  Amazon Prime\n",
       "3   4     Paramount\n",
       "4   5       Netflix\n",
       "5   6       AppleTV"
      ]
     },
     "execution_count": 83,
     "metadata": {},
     "output_type": "execute_result"
    }
   ],
   "source": [
    "# Ver el resultado\n",
    "df_platform_unicos.head(10)"
   ]
  },
  {
   "cell_type": "code",
   "execution_count": 84,
   "metadata": {},
   "outputs": [],
   "source": [
    "# Exportar platform a un archivo CSV\n",
    "df_platform_unicos.to_csv('platform_unicos.csv', index=False)"
   ]
  },
  {
   "cell_type": "code",
   "execution_count": 85,
   "metadata": {},
   "outputs": [
    {
     "name": "stderr",
     "output_type": "stream",
     "text": [
      "C:\\Users\\Ema\\AppData\\Local\\Temp\\ipykernel_20936\\1439819813.py:12: SettingWithCopyWarning: \n",
      "A value is trying to be set on a copy of a slice from a DataFrame.\n",
      "Try using .loc[row_indexer,col_indexer] = value instead\n",
      "\n",
      "See the caveats in the documentation: https://pandas.pydata.org/pandas-docs/stable/user_guide/indexing.html#returning-a-view-versus-a-copy\n",
      "  df_platform_titles['platform'] = df_platform_titles['platform'].str.strip(\"[]'\\\" \")\n"
     ]
    }
   ],
   "source": [
    "import pandas as pd\n",
    "\n",
    "# 1. Cargar el archivo CSV en un DataFrame\n",
    "df = pd.read_csv('./titles_combinado.csv')\n",
    "\n",
    "df['platform'] = df['platform'].str.split(', ')\n",
    "\n",
    "# 3. Explode para obtener cada género en una fila, aunque con duplicados\n",
    "df_exploded_tres = df.explode('platform')\n",
    "\n",
    "df_platform_titles = df_exploded_tres[['id', 'platform']]\n",
    "df_platform_titles['platform'] = df_platform_titles['platform'].str.strip(\"[]'\\\" \")\n",
    "df_platform_titles = df_platform_titles.merge(df_platform_unicos, on='platform')"
   ]
  },
  {
   "cell_type": "code",
   "execution_count": 86,
   "metadata": {},
   "outputs": [],
   "source": [
    "df_platform_titles = df_platform_titles.rename(columns={'id_y': 'id_platform'})\n",
    "df_platform_titles = df_platform_titles.rename(columns={'id_x': 'id_title'})"
   ]
  },
  {
   "cell_type": "code",
   "execution_count": 87,
   "metadata": {},
   "outputs": [],
   "source": [
    "df_platform_titles = df_platform_titles[['id_title', 'id_platform']]"
   ]
  },
  {
   "cell_type": "code",
   "execution_count": 88,
   "metadata": {},
   "outputs": [],
   "source": [
    "# Exportar platform a un archivo CSV\n",
    "df_platform_titles.to_csv('platform_titles.csv', index=False)"
   ]
  }
 ],
 "metadata": {
  "kernelspec": {
   "display_name": "Python 3",
   "language": "python",
   "name": "python3"
  },
  "language_info": {
   "codemirror_mode": {
    "name": "ipython",
    "version": 3
   },
   "file_extension": ".py",
   "mimetype": "text/x-python",
   "name": "python",
   "nbconvert_exporter": "python",
   "pygments_lexer": "ipython3",
   "version": "3.12.1"
  }
 },
 "nbformat": 4,
 "nbformat_minor": 2
}
